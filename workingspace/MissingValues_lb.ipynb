{
 "cells": [
  {
   "cell_type": "code",
   "execution_count": 94,
   "metadata": {},
   "outputs": [],
   "source": [
    "import pandas as pd\n",
    "import numpy as np\n",
    "import matplotlib.pyplot as plt\n",
    "import missingno as msno\n",
    "\n",
    "from utilities import clean_data, missing"
   ]
  },
  {
   "cell_type": "code",
   "execution_count": 95,
   "metadata": {},
   "outputs": [
    {
     "name": "stdout",
     "output_type": "stream",
     "text": [
      "(298040, 7)\n"
     ]
    },
    {
     "data": {
      "text/html": [
       "<div>\n",
       "<style scoped>\n",
       "    .dataframe tbody tr th:only-of-type {\n",
       "        vertical-align: middle;\n",
       "    }\n",
       "\n",
       "    .dataframe tbody tr th {\n",
       "        vertical-align: top;\n",
       "    }\n",
       "\n",
       "    .dataframe thead th {\n",
       "        text-align: right;\n",
       "    }\n",
       "</style>\n",
       "<table border=\"1\" class=\"dataframe\">\n",
       "  <thead>\n",
       "    <tr style=\"text-align: right;\">\n",
       "      <th></th>\n",
       "      <th>period_end_date</th>\n",
       "      <th>business_entity_doing_business_as_name</th>\n",
       "      <th>followers</th>\n",
       "      <th>pictures</th>\n",
       "      <th>videos</th>\n",
       "      <th>comments</th>\n",
       "      <th>likes</th>\n",
       "    </tr>\n",
       "  </thead>\n",
       "  <tbody>\n",
       "    <tr>\n",
       "      <th>0</th>\n",
       "      <td>2017-05-06</td>\n",
       "      <td>24S</td>\n",
       "      <td>NaN</td>\n",
       "      <td>NaN</td>\n",
       "      <td>NaN</td>\n",
       "      <td>NaN</td>\n",
       "      <td>NaN</td>\n",
       "    </tr>\n",
       "    <tr>\n",
       "      <th>1</th>\n",
       "      <td>2017-05-13</td>\n",
       "      <td>24S</td>\n",
       "      <td>NaN</td>\n",
       "      <td>6.0</td>\n",
       "      <td>3.0</td>\n",
       "      <td>57.0</td>\n",
       "      <td>1765.0</td>\n",
       "    </tr>\n",
       "    <tr>\n",
       "      <th>2</th>\n",
       "      <td>2017-05-20</td>\n",
       "      <td>24S</td>\n",
       "      <td>NaN</td>\n",
       "      <td>6.0</td>\n",
       "      <td>3.0</td>\n",
       "      <td>57.0</td>\n",
       "      <td>1765.0</td>\n",
       "    </tr>\n",
       "    <tr>\n",
       "      <th>3</th>\n",
       "      <td>2017-05-27</td>\n",
       "      <td>24S</td>\n",
       "      <td>NaN</td>\n",
       "      <td>6.0</td>\n",
       "      <td>3.0</td>\n",
       "      <td>57.0</td>\n",
       "      <td>1765.0</td>\n",
       "    </tr>\n",
       "    <tr>\n",
       "      <th>4</th>\n",
       "      <td>2017-06-03</td>\n",
       "      <td>24S</td>\n",
       "      <td>NaN</td>\n",
       "      <td>24.0</td>\n",
       "      <td>3.0</td>\n",
       "      <td>109.0</td>\n",
       "      <td>3922.0</td>\n",
       "    </tr>\n",
       "  </tbody>\n",
       "</table>\n",
       "</div>"
      ],
      "text/plain": [
       "  period_end_date business_entity_doing_business_as_name  followers  pictures  \\\n",
       "0      2017-05-06                                    24S        NaN       NaN   \n",
       "1      2017-05-13                                    24S        NaN       6.0   \n",
       "2      2017-05-20                                    24S        NaN       6.0   \n",
       "3      2017-05-27                                    24S        NaN       6.0   \n",
       "4      2017-06-03                                    24S        NaN      24.0   \n",
       "\n",
       "   videos  comments   likes  \n",
       "0     NaN       NaN     NaN  \n",
       "1     3.0      57.0  1765.0  \n",
       "2     3.0      57.0  1765.0  \n",
       "3     3.0      57.0  1765.0  \n",
       "4     3.0     109.0  3922.0  "
      ]
     },
     "execution_count": 95,
     "metadata": {},
     "output_type": "execute_result"
    }
   ],
   "source": [
    "df, df_brands, df_allbrands, brands, compsets, compset_groups, groups_bycompset = clean_data()\n",
    "\n",
    "print(df.shape)\n",
    "df.head(n=5)"
   ]
  },
  {
   "cell_type": "markdown",
   "metadata": {},
   "source": [
    "# 1) Understanding Missing Values"
   ]
  },
  {
   "cell_type": "code",
   "execution_count": 96,
   "metadata": {},
   "outputs": [
    {
     "data": {
      "text/plain": [
       "period_end_date                               0\n",
       "business_entity_doing_business_as_name        0\n",
       "followers                                 61727\n",
       "pictures                                   3864\n",
       "videos                                     9602\n",
       "comments                                   4082\n",
       "likes                                      3752\n",
       "dtype: int64"
      ]
     },
     "execution_count": 96,
     "metadata": {},
     "output_type": "execute_result"
    }
   ],
   "source": [
    "\n",
    "\n",
    "# get the number of missing data points per column\n",
    "missing_values_count = df.isnull().sum()\n",
    "\n",
    "# look at the # of missing points in the first ten columns\n",
    "missing_values_count[::]"
   ]
  },
  {
   "cell_type": "code",
   "execution_count": 97,
   "metadata": {},
   "outputs": [
    {
     "data": {
      "text/html": [
       "<div>\n",
       "<style scoped>\n",
       "    .dataframe tbody tr th:only-of-type {\n",
       "        vertical-align: middle;\n",
       "    }\n",
       "\n",
       "    .dataframe tbody tr th {\n",
       "        vertical-align: top;\n",
       "    }\n",
       "\n",
       "    .dataframe thead th {\n",
       "        text-align: right;\n",
       "    }\n",
       "</style>\n",
       "<table border=\"1\" class=\"dataframe\">\n",
       "  <thead>\n",
       "    <tr style=\"text-align: right;\">\n",
       "      <th></th>\n",
       "      <th>business_entity_doing_business_as_name</th>\n",
       "      <th>followers_NaNs</th>\n",
       "      <th>pictures_NaNs</th>\n",
       "      <th>videos_NaNs</th>\n",
       "      <th>comments_NaNs</th>\n",
       "      <th>likes_NaNs</th>\n",
       "    </tr>\n",
       "  </thead>\n",
       "  <tbody>\n",
       "    <tr>\n",
       "      <th>0</th>\n",
       "      <td>24S</td>\n",
       "      <td>20</td>\n",
       "      <td>1</td>\n",
       "      <td>1</td>\n",
       "      <td>1</td>\n",
       "      <td>1</td>\n",
       "    </tr>\n",
       "    <tr>\n",
       "      <th>1</th>\n",
       "      <td>3.1 Phillip Lim</td>\n",
       "      <td>18</td>\n",
       "      <td>0</td>\n",
       "      <td>0</td>\n",
       "      <td>0</td>\n",
       "      <td>0</td>\n",
       "    </tr>\n",
       "    <tr>\n",
       "      <th>2</th>\n",
       "      <td>3CE</td>\n",
       "      <td>131</td>\n",
       "      <td>0</td>\n",
       "      <td>0</td>\n",
       "      <td>0</td>\n",
       "      <td>0</td>\n",
       "    </tr>\n",
       "    <tr>\n",
       "      <th>3</th>\n",
       "      <td>A. Lange &amp; Soehne</td>\n",
       "      <td>8</td>\n",
       "      <td>3</td>\n",
       "      <td>2</td>\n",
       "      <td>2</td>\n",
       "      <td>2</td>\n",
       "    </tr>\n",
       "    <tr>\n",
       "      <th>4</th>\n",
       "      <td>ANIMALE</td>\n",
       "      <td>131</td>\n",
       "      <td>0</td>\n",
       "      <td>2</td>\n",
       "      <td>0</td>\n",
       "      <td>0</td>\n",
       "    </tr>\n",
       "  </tbody>\n",
       "</table>\n",
       "</div>"
      ],
      "text/plain": [
       "  business_entity_doing_business_as_name  followers_NaNs  pictures_NaNs  \\\n",
       "0                                    24S              20              1   \n",
       "1                        3.1 Phillip Lim              18              0   \n",
       "2                                    3CE             131              0   \n",
       "3                      A. Lange & Soehne               8              3   \n",
       "4                                ANIMALE             131              0   \n",
       "\n",
       "   videos_NaNs  comments_NaNs  likes_NaNs  \n",
       "0            1              1           1  \n",
       "1            0              0           0  \n",
       "2            0              0           0  \n",
       "3            2              2           2  \n",
       "4            2              0           0  "
      ]
     },
     "execution_count": 97,
     "metadata": {},
     "output_type": "execute_result"
    }
   ],
   "source": [
    "df_missing = missing(df)\n",
    "\n",
    "df_missing.head()"
   ]
  },
  {
   "cell_type": "code",
   "execution_count": null,
   "metadata": {},
   "outputs": [],
   "source": [
    "\n"
   ]
  },
  {
   "cell_type": "markdown",
   "metadata": {},
   "source": [
    "#### How many rows are in df, containing at least one Nan?"
   ]
  },
  {
   "cell_type": "code",
   "execution_count": 98,
   "metadata": {},
   "outputs": [
    {
     "name": "stdout",
     "output_type": "stream",
     "text": [
      "Number of rows with at least one NaN: 65868\n"
     ]
    }
   ],
   "source": [
    "# Count the number of rows with at least one NaN value across any column and print\n",
    "rows_with_nan = df.isna().any(axis=1).sum()\n",
    "print(\"Number of rows with at least one NaN:\", rows_with_nan)"
   ]
  },
  {
   "cell_type": "code",
   "execution_count": 99,
   "metadata": {},
   "outputs": [],
   "source": [
    "#df[0:50]\n",
    "#df[300:350]"
   ]
  },
  {
   "cell_type": "markdown",
   "metadata": {},
   "source": [
    "#### Removing all rows at the beginning of each company that are part of a series of Nan entries in the followers column:"
   ]
  },
  {
   "cell_type": "code",
   "execution_count": 100,
   "metadata": {},
   "outputs": [],
   "source": [
    "# Function to remove leading NaNs in 'followers' for each group(business)\n",
    "def remove_leading_nans(group):\n",
    "    # Get the first index where 'followers' is not NaN\n",
    "    first_valid_index = group['followers'].first_valid_index()\n",
    "    # If all are NaNs, return an empty DataFrame from this group\n",
    "    if first_valid_index is None:\n",
    "        return pd.DataFrame()\n",
    "    # Return the DataFrame starting from the first non-NaN 'followers' row\n",
    "    return group.loc[first_valid_index:]\n",
    "\n",
    "# Apply the function to each group and concatenate the results\n",
    "cleaned_df = df.groupby('business_entity_doing_business_as_name', group_keys=False).apply(remove_leading_nans)\n"
   ]
  },
  {
   "cell_type": "code",
   "execution_count": 101,
   "metadata": {},
   "outputs": [
    {
     "name": "stdout",
     "output_type": "stream",
     "text": [
      "Number of rows with at least one NaN: 4378\n"
     ]
    }
   ],
   "source": [
    "\n",
    "# Count the number of rows with at least one NaN value across any column\n",
    "rows_with_nan = cleaned_df.isna().any(axis=1).sum()\n",
    "\n",
    "# Display the count\n",
    "print(\"Number of rows with at least one NaN:\", rows_with_nan)"
   ]
  },
  {
   "cell_type": "code",
   "execution_count": 102,
   "metadata": {},
   "outputs": [],
   "source": [
    "#cleaned_df[0:50]\n",
    "\n",
    "#cleaned_df[1100:1150]"
   ]
  },
  {
   "cell_type": "markdown",
   "metadata": {},
   "source": [
    "#### How long are the remaining series of Nan's in each column?"
   ]
  },
  {
   "cell_type": "code",
   "execution_count": 103,
   "metadata": {},
   "outputs": [],
   "source": [
    "cleaned_df = cleaned_df.reset_index(drop=True)"
   ]
  },
  {
   "cell_type": "code",
   "execution_count": 104,
   "metadata": {},
   "outputs": [
    {
     "name": "stdout",
     "output_type": "stream",
     "text": [
      "{'followers': [(74, None, 20842), (43, None, 30082), (89, None, 34146), (31, None, 71309)], 'pictures': [(3, 6061, 6063), (1, 7958, 7958), (53, 16635, 16687), (19, 20421, 20439), (96, 21483, 21578), (53, 29628, 29680), (1, 43464, 43464), (52, 49020, 49071), (109, 52645, 52753), (21, 58280, 58300), (73, 59124, 59196), (37, 72337, 72373), (58, 73044, 73101), (77, 73877, 73953), (11, 77736, 77746), (1, 78063, 78063), (22, 79482, 79503), (53, 85486, 85538), (35, 89124, 89158), (53, 91502, 91554), (52, 93247, 93298), (39, 95034, 95072), (42, 99706, 99747), (11, 100670, 100680), (53, 101828, 101880), (18, 105975, 105992), (136, 106980, 107115), (52, 107734, 107785), (27, 108189, 108215), (27, 108618, 108644), (50, 110924, 110973), (35, 114638, 114672), (52, 119911, 119962), (94, 124339, 124432), (174, 124766, 124939), (52, 129233, 129284), (118, 132922, 133039), (52, 137185, 137236), (25, 137929, 137953), (172, 140454, 140625), (47, 152086, 152132), (23, 153856, 153878), (28, 156032, 156059), (110, 156226, 156335), (8, 163391, 163398), (42, 168019, 168060), (9, 170706, 170714), (85, 178242, 178326), (52, 179204, 179255), (119, 181153, 181271), (12, 182877, 182888), (19, 189336, 189354), (51, 194103, 194153), (52, 202463, 202514), (19, 205282, 205300), (5, 209502, 209506), (113, 210522, 210634), (1, 214240, 214240), (2, 214959, 214960), (27, 217584, 217610), (161, 222264, 222424), (23, 223887, 223909), (109, 227877, 227985), (47, 229923, 229969), (10, 232138, 232147)], 'videos': [(9, 3136, 3144), (1, 4443, 4443), (1, 5606, 5606), (1, 7958, 7958), (1, 10580, 10580), (11, 11455, 11465), (5, 14199, 14203), (6, 14654, 14659), (52, 16635, 16686), (9, 17090, 17098), (21, 20421, 20441), (119, 21483, 21601), (4, 22181, 22184), (1, 22636, 22636), (7, 28059, 28065), (54, 29628, 29681), (6, 37831, 37836), (1, 39757, 39757), (3, 41915, 41917), (1, 43464, 43464), (4, 45426, 45429), (6, 47366, 47371), (18, 48565, 48582), (53, 49020, 49072), (1, 49475, 49475), (1, 50385, 50385), (5, 50840, 50844), (109, 52645, 52753), (19, 58280, 58298), (4, 58702, 58705), (74, 59124, 59197), (5, 62343, 62347), (4, 65932, 65935), (5, 66656, 66660), (25, 67387, 67411), (37, 72337, 72373), (58, 73044, 73101), (7, 73422, 73428), (78, 73877, 73954), (11, 77736, 77746), (3, 78063, 78065), (24, 79482, 79505), (22, 82977, 82998), (53, 85486, 85538), (1, 88282, 88282), (45, 89124, 89168), (12, 89579, 89590), (53, 91502, 91554), (53, 93247, 93299), (26, 93702, 93727), (40, 95034, 95073), (51, 99706, 99756), (28, 100670, 100697), (60, 101828, 101887), (25, 105975, 105999), (6, 106525, 106530), (177, 106980, 107156), (52, 107734, 107785), (47, 108189, 108235), (29, 108618, 108646), (24, 110050, 110073), (50, 110924, 110973), (3, 113589, 113591), (36, 114638, 114673), (54, 119911, 119964), (96, 124339, 124434), (174, 124766, 124939), (13, 125542, 125554), (57, 126358, 126414), (53, 129233, 129285), (7, 131816, 131822), (120, 132922, 133041), (7, 134895, 134901), (2, 135448, 135449), (3, 135903, 135905), (54, 137185, 137238), (27, 137929, 137955), (172, 140454, 140625), (3, 141093, 141095), (7, 144512, 144518), (1, 146000, 146000), (9, 148053, 148061), (60, 152086, 152145), (25, 153856, 153880), (48, 156032, 156079), (109, 156226, 156334), (10, 159606, 159615), (11, 163391, 163401), (43, 168019, 168061), (4, 169198, 169201), (15, 170706, 170720), (12, 174479, 174490), (4, 176791, 176794), (94, 178242, 178335), (54, 179204, 179257), (59, 181153, 181211), (11, 182877, 182887), (22, 183722, 183743), (19, 189336, 189354), (51, 194103, 194153), (52, 202463, 202514), (25, 205282, 205306), (15, 209502, 209516), (113, 210522, 210634), (2, 213785, 213786), (2, 214959, 214960), (1, 216853, 216853), (28, 217584, 217611), (2, 220688, 220689), (169, 222264, 222432), (22, 222995, 223016), (23, 223887, 223909), (1, 225413, 225413), (112, 227877, 227988), (47, 229923, 229969), (21, 232138, 232158), (6, 233651, 233656)], 'comments': [(1, 7958, 7958), (52, 16635, 16686), (19, 20421, 20439), (96, 21483, 21578), (40, 29352, 29391), (53, 29628, 29680), (1, 43464, 43464), (52, 49020, 49071), (109, 52645, 52753), (19, 58280, 58298), (73, 59124, 59196), (113, 70791, 70903), (37, 72337, 72373), (58, 73044, 73101), (77, 73877, 73953), (11, 77736, 77746), (1, 78063, 78063), (22, 79482, 79503), (53, 85486, 85538), (35, 89124, 89158), (53, 91502, 91554), (52, 93247, 93298), (39, 95034, 95072), (42, 99706, 99747), (11, 100670, 100680), (53, 101828, 101880), (18, 105975, 105992), (136, 106980, 107115), (52, 107734, 107785), (27, 108189, 108215), (27, 108618, 108644), (50, 110924, 110973), (35, 114638, 114672), (52, 119911, 119962), (94, 124339, 124432), (174, 124766, 124939), (52, 129233, 129284), (118, 132922, 133039), (52, 137185, 137236), (25, 137929, 137953), (172, 140454, 140625), (53, 152086, 152138), (23, 153856, 153878), (28, 156032, 156059), (109, 156226, 156334), (8, 163391, 163398), (42, 168019, 168060), (9, 170706, 170714), (86, 178242, 178327), (52, 179204, 179255), (59, 181153, 181211), (11, 182877, 182887), (11, 187360, 187370), (19, 189336, 189354), (51, 194103, 194153), (52, 202463, 202514), (19, 205282, 205300), (5, 209502, 209506), (113, 210522, 210634), (2, 214959, 214960), (27, 217584, 217610), (161, 222264, 222424), (23, 223887, 223909), (109, 227877, 227985), (47, 229923, 229969), (10, 232138, 232147)], 'likes': [(1, 7958, 7958), (52, 16635, 16686), (19, 20421, 20439), (96, 21483, 21578), (53, 29628, 29680), (1, 43464, 43464), (52, 49020, 49071), (109, 52645, 52753), (19, 58280, 58298), (73, 59124, 59196), (37, 72337, 72373), (58, 73044, 73101), (77, 73877, 73953), (11, 77736, 77746), (1, 78063, 78063), (22, 79482, 79503), (53, 85486, 85538), (35, 89124, 89158), (53, 91502, 91554), (52, 93247, 93298), (39, 95034, 95072), (42, 99706, 99747), (11, 100670, 100680), (53, 101828, 101880), (18, 105975, 105992), (136, 106980, 107115), (52, 107734, 107785), (27, 108189, 108215), (27, 108618, 108644), (50, 110924, 110973), (35, 114638, 114672), (52, 119911, 119962), (94, 124339, 124432), (174, 124766, 124939), (52, 129233, 129284), (118, 132922, 133039), (52, 137185, 137236), (25, 137929, 137953), (172, 140454, 140625), (47, 152086, 152132), (23, 153856, 153878), (28, 156032, 156059), (109, 156226, 156334), (8, 163391, 163398), (42, 168019, 168060), (9, 170706, 170714), (85, 178242, 178326), (52, 179204, 179255), (59, 181153, 181211), (11, 182877, 182887), (19, 189336, 189354), (51, 194103, 194153), (52, 202463, 202514), (19, 205282, 205300), (5, 209502, 209506), (113, 210522, 210634), (2, 214959, 214960), (27, 217584, 217610), (161, 222264, 222424), (23, 223887, 223909), (109, 227877, 227985), (47, 229923, 229969), (10, 232138, 232147)]}\n",
      "Total NaN entries: 14027\n"
     ]
    }
   ],
   "source": [
    "def calculate_nan_series_lengths_indices_and_total(_df):\n",
    "    # Initialize a dictionary to store the lengths of NaN series and their indices for each column\n",
    "    nan_series_details = {col: [] for col in _df.columns if _df[col].isna().any()}\n",
    "    total_nan_count = 0\n",
    "    \n",
    "    # Iterate through each column that contains NaN\n",
    "    for col in nan_series_details.keys():\n",
    "        current_series_length = 0\n",
    "        series_start_index = None\n",
    "        previous_business = None\n",
    "        \n",
    "        # Iterate through each row\n",
    "        for idx, row in _df.iterrows():\n",
    "            if pd.isna(row[col]):\n",
    "                # Check if we've moved to a new business\n",
    "                if row['business_entity_doing_business_as_name'] != previous_business:\n",
    "                    if current_series_length > 0:\n",
    "                        # Save the length and indices of the previous series before starting a new one\n",
    "                        nan_series_details[col].append((current_series_length, series_start_index, idx - 1))\n",
    "                        total_nan_count += current_series_length\n",
    "                    # Reset the series length for the new business and record start index\n",
    "                    current_series_length = 1\n",
    "                    series_start_index = idx\n",
    "                else:\n",
    "                    # Increment the series length\n",
    "                    current_series_length += 1\n",
    "            else:\n",
    "                if current_series_length > 0:\n",
    "                    # End of a series, append its length and indices to the list and add to total count\n",
    "                    nan_series_details[col].append((current_series_length, series_start_index, idx - 1))\n",
    "                    total_nan_count += current_series_length\n",
    "                    current_series_length = 0\n",
    "                    series_start_index = None\n",
    "            \n",
    "            # Update the previous business name\n",
    "            previous_business = row['business_entity_doing_business_as_name']\n",
    "        \n",
    "        # Check if the last row in the dataframe was a NaN and needs to be added\n",
    "        if current_series_length > 0:\n",
    "            nan_series_details[col].append((current_series_length, series_start_index, _df.index[-1]))\n",
    "            total_nan_count += current_series_length\n",
    "\n",
    "    return nan_series_details, total_nan_count\n",
    "\n",
    "nan_series_info, total_nan = calculate_nan_series_lengths_indices_and_total(cleaned_df)\n",
    "print(nan_series_info)\n",
    "print(\"Total NaN entries:\", total_nan)"
   ]
  },
  {
   "cell_type": "code",
   "execution_count": 105,
   "metadata": {},
   "outputs": [
    {
     "name": "stdout",
     "output_type": "stream",
     "text": [
      "14027\n"
     ]
    }
   ],
   "source": [
    "#total_nan_entries = df.isna().sum().sum()\n",
    "\n",
    "print(cleaned_df.isna().sum().sum())"
   ]
  },
  {
   "cell_type": "code",
   "execution_count": null,
   "metadata": {},
   "outputs": [],
   "source": []
  },
  {
   "cell_type": "code",
   "execution_count": 106,
   "metadata": {},
   "outputs": [],
   "source": [
    "#'followers': [(74, 20769, 20842), (43, 30040, 30082), (89, 34058, 34146), (31, 71279, 71309)]\n",
    "\n",
    "#cleaned_df[71309-31-1:71309+5]\n",
    "\n",
    "#drop above rows manually:\n",
    "\n",
    "indices_to_drop = list(range(20769, 20842)) + list(range(30040, 30082)) + list(range(34058, 34146)) + list(range(71279, 71309))\n",
    "cleaned_df = cleaned_df.drop(indices_to_drop)\n"
   ]
  },
  {
   "cell_type": "code",
   "execution_count": 107,
   "metadata": {},
   "outputs": [
    {
     "data": {
      "text/html": [
       "<div>\n",
       "<style scoped>\n",
       "    .dataframe tbody tr th:only-of-type {\n",
       "        vertical-align: middle;\n",
       "    }\n",
       "\n",
       "    .dataframe tbody tr th {\n",
       "        vertical-align: top;\n",
       "    }\n",
       "\n",
       "    .dataframe thead th {\n",
       "        text-align: right;\n",
       "    }\n",
       "</style>\n",
       "<table border=\"1\" class=\"dataframe\">\n",
       "  <thead>\n",
       "    <tr style=\"text-align: right;\">\n",
       "      <th></th>\n",
       "      <th>period_end_date</th>\n",
       "      <th>business_entity_doing_business_as_name</th>\n",
       "      <th>followers</th>\n",
       "      <th>pictures</th>\n",
       "      <th>videos</th>\n",
       "      <th>comments</th>\n",
       "      <th>likes</th>\n",
       "    </tr>\n",
       "  </thead>\n",
       "  <tbody>\n",
       "    <tr>\n",
       "      <th>20842</th>\n",
       "      <td>2023-09-16</td>\n",
       "      <td>Becca</td>\n",
       "      <td>NaN</td>\n",
       "      <td>0.0</td>\n",
       "      <td>0.0</td>\n",
       "      <td>0.0</td>\n",
       "      <td>0.0</td>\n",
       "    </tr>\n",
       "    <tr>\n",
       "      <th>30082</th>\n",
       "      <td>2023-09-16</td>\n",
       "      <td>Bottega Veneta</td>\n",
       "      <td>NaN</td>\n",
       "      <td>0.0</td>\n",
       "      <td>0.0</td>\n",
       "      <td>0.0</td>\n",
       "      <td>0.0</td>\n",
       "    </tr>\n",
       "    <tr>\n",
       "      <th>34146</th>\n",
       "      <td>2023-09-16</td>\n",
       "      <td>Bulgari Beauty</td>\n",
       "      <td>NaN</td>\n",
       "      <td>0.0</td>\n",
       "      <td>0.0</td>\n",
       "      <td>0.0</td>\n",
       "      <td>0.0</td>\n",
       "    </tr>\n",
       "    <tr>\n",
       "      <th>71309</th>\n",
       "      <td>2023-09-16</td>\n",
       "      <td>East Bay</td>\n",
       "      <td>NaN</td>\n",
       "      <td>0.0</td>\n",
       "      <td>0.0</td>\n",
       "      <td>0.0</td>\n",
       "      <td>0.0</td>\n",
       "    </tr>\n",
       "  </tbody>\n",
       "</table>\n",
       "</div>"
      ],
      "text/plain": [
       "      period_end_date business_entity_doing_business_as_name  followers  \\\n",
       "20842      2023-09-16                                  Becca        NaN   \n",
       "30082      2023-09-16                         Bottega Veneta        NaN   \n",
       "34146      2023-09-16                         Bulgari Beauty        NaN   \n",
       "71309      2023-09-16                               East Bay        NaN   \n",
       "\n",
       "       pictures  videos  comments  likes  \n",
       "20842       0.0     0.0       0.0    0.0  \n",
       "30082       0.0     0.0       0.0    0.0  \n",
       "34146       0.0     0.0       0.0    0.0  \n",
       "71309       0.0     0.0       0.0    0.0  "
      ]
     },
     "execution_count": 107,
     "metadata": {},
     "output_type": "execute_result"
    }
   ],
   "source": [
    "cleaned_df[cleaned_df['followers'].isna()]"
   ]
  },
  {
   "cell_type": "markdown",
   "metadata": {},
   "source": [
    "#### How many rows with 4, 3, 2 nans are there?"
   ]
  },
  {
   "cell_type": "code",
   "execution_count": 108,
   "metadata": {},
   "outputs": [
    {
     "name": "stdout",
     "output_type": "stream",
     "text": [
      "Number of rows with 4 NaNs: 3214\n",
      "Number of rows with 3 NaNs: 0\n",
      "Number of rows with 2 NaNs: 7\n",
      "Number of rows with 1 NaNs: 924\n",
      "Distribution of NaN counts per row:\n",
      " 0    232172\n",
      "1       924\n",
      "2         7\n",
      "4      3214\n",
      "dtype: int64\n",
      "4145\n",
      "13794\n"
     ]
    }
   ],
   "source": [
    "# Calculate the number of NaNs per row\n",
    "nan_counts_per_row = cleaned_df.isna().sum(axis=1)\n",
    "\n",
    "# Count how many rows have exactly 4, 3, and 2 NaNs\n",
    "nan_4 = (nan_counts_per_row == 4).sum()\n",
    "nan_3 = (nan_counts_per_row == 3).sum()\n",
    "nan_2 = (nan_counts_per_row == 2).sum()\n",
    "nan_1 = (nan_counts_per_row == 1).sum()\n",
    "\n",
    "print(\"Number of rows with 4 NaNs:\", nan_4)\n",
    "print(\"Number of rows with 3 NaNs:\", nan_3)\n",
    "print(\"Number of rows with 2 NaNs:\", nan_2)\n",
    "print(\"Number of rows with 1 NaNs:\", nan_1)\n",
    "\n",
    "# For a more general approach, to see counts for all possible numbers of NaNs\n",
    "nan_counts_distribution = nan_counts_per_row.value_counts().sort_index()\n",
    "\n",
    "print(\"Distribution of NaN counts per row:\\n\", nan_counts_distribution)\n",
    "\n",
    "print(nan_1+nan_2+nan_3+nan_4)\n",
    "print(nan_1+2*nan_2+3*nan_3+4*nan_4)"
   ]
  },
  {
   "cell_type": "code",
   "execution_count": 110,
   "metadata": {},
   "outputs": [
    {
     "data": {
      "text/plain": [
       "(236317, 7)"
      ]
     },
     "execution_count": 110,
     "metadata": {},
     "output_type": "execute_result"
    }
   ],
   "source": [
    "print(cleaned_df.shape)\n",
    "\n"
   ]
  }
 ],
 "metadata": {
  "kernelspec": {
   "display_name": "base",
   "language": "python",
   "name": "python3"
  },
  "language_info": {
   "codemirror_mode": {
    "name": "ipython",
    "version": 3
   },
   "file_extension": ".py",
   "mimetype": "text/x-python",
   "name": "python",
   "nbconvert_exporter": "python",
   "pygments_lexer": "ipython3",
   "version": "3.10.9"
  }
 },
 "nbformat": 4,
 "nbformat_minor": 2
}
