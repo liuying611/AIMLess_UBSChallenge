{
 "cells": [
  {
   "cell_type": "code",
   "id": "initial_id",
   "metadata": {
    "collapsed": true,
    "ExecuteTime": {
     "end_time": "2024-04-27T10:24:08.958156Z",
     "start_time": "2024-04-27T10:24:08.955292Z"
    }
   },
   "source": [
    "import pandas as pd\n",
    "import numpy as np\n",
    "import matplotlib.pyplot as plt"
   ],
   "outputs": [],
   "execution_count": 14
  },
  {
   "metadata": {
    "ExecuteTime": {
     "end_time": "2024-04-27T14:50:43.857713Z",
     "start_time": "2024-04-27T14:50:43.856094Z"
    }
   },
   "cell_type": "code",
   "source": "file_path = '../data/skylab_instagram_datathon_dataset.csv'",
   "id": "c53abf5f8cdf1cb5",
   "outputs": [],
   "execution_count": 293
  },
  {
   "metadata": {
    "ExecuteTime": {
     "end_time": "2024-04-27T14:50:47.133302Z",
     "start_time": "2024-04-27T14:50:45.350394Z"
    }
   },
   "cell_type": "code",
   "source": [
    "df = pd.read_csv(file_path, header=0, sep=\";\")\n",
    "df.drop(columns=['period', 'calculation_type'], inplace=True)\n",
    "df_allbrands = df[df['business_entity_doing_business_as_name'] == 'All Brands'].copy()\n",
    "df_allbrands.drop(columns=['business_entity_doing_business_as_name','legal_entity_name','domicile_country_name','ultimate_parent_legal_entity_name','primary_exchange_name'], inplace=True)\n",
    "df.drop(df[df['business_entity_doing_business_as_name'] == 'All Brands'].index, inplace=True)\n",
    "\n",
    "brands = df['business_entity_doing_business_as_name'].unique()\n",
    "compset_groups = df['compset_group'].unique()\n",
    "compsets = df['compset'].unique()\n",
    "\n",
    "groups_bycompset = {}\n",
    "for compset in compsets:\n",
    "    df_compset = df[df['compset'] == compset]\n",
    "    groups_bycompset[compset] = df_compset['compset_group'].unique()\n",
    "\n",
    "df_brands = df[['business_entity_doing_business_as_name', 'compset_group', 'compset', 'legal_entity_name', 'domicile_country_name', 'ultimate_parent_legal_entity_name', 'primary_exchange_name']].copy()\n",
    "df_brands = df_brands.groupby('business_entity_doing_business_as_name').agg({\n",
    "    'compset_group': 'first',\n",
    "    'compset': lambda x: sorted(list(set(x))),\n",
    "    'legal_entity_name': 'first',\n",
    "    'domicile_country_name': 'first',\n",
    "    'ultimate_parent_legal_entity_name': 'first',\n",
    "    'primary_exchange_name': 'first'\n",
    "}).reset_index()\n",
    "df.drop(columns=['compset_group', 'compset', 'legal_entity_name', 'domicile_country_name', 'ultimate_parent_legal_entity_name', 'primary_exchange_name'], inplace=True)\n",
    "df.fillna(-1, inplace=True)\n",
    "df.drop_duplicates(inplace=True)"
   ],
   "id": "c641c4fb84a483dc",
   "outputs": [],
   "execution_count": 294
  },
  {
   "metadata": {},
   "cell_type": "code",
   "outputs": [],
   "execution_count": null,
   "source": "",
   "id": "72299ffd24ee8b83"
  },
  {
   "metadata": {},
   "cell_type": "code",
   "outputs": [],
   "execution_count": null,
   "source": "",
   "id": "9a8c6fb1cb9c7ad8"
  },
  {
   "metadata": {
    "ExecuteTime": {
     "end_time": "2024-04-27T13:09:15.958732Z",
     "start_time": "2024-04-27T13:09:04.560771Z"
    }
   },
   "cell_type": "code",
   "source": [
    "# Check columns uniquely defined by brand:\n",
    "for brand in brands:\n",
    "    df_brand=(df[df['business_entity_doing_business_as_name'] == brand].sort_values(by='period_end_date')).copy()\n",
    "    \n",
    "    if df_brand['primary_exchange_name'].nunique()>1:\n",
    "        print(brand)\n",
    "\n",
    "unique=['compset_group', 'legal_entity_name', 'domicile_country_name', 'ultimate_parent_legal_entity_name', 'primary_exchange_name']"
   ],
   "id": "f3897d3f9abdff26",
   "outputs": [],
   "execution_count": 213
  },
  {
   "metadata": {
    "ExecuteTime": {
     "end_time": "2024-04-27T13:26:04.355137Z",
     "start_time": "2024-04-27T13:25:53.007206Z"
    }
   },
   "cell_type": "code",
   "source": [
    "for brand in brands:\n",
    "    df_brand=(df[df['business_entity_doing_business_as_name'] == brand].sort_values(by='period_end_date')).copy().reset_index()\n",
    "    first_date = df_brand.loc[0, 'period_end_date']\n",
    "    filtered_compset = df_brand[df_brand['period_end_date'] == first_date]['compset'].tolist()\n",
    "    all_compset = df_brand['compset'].unique().tolist()\n",
    "    if sorted(filtered_compset)!=sorted(all_compset):\n",
    "        print(brand)\n",
    "\n",
    "# Compset list of first time entry does not change later..."
   ],
   "id": "4dbef0f5faef6b77",
   "outputs": [],
   "execution_count": 233
  },
  {
   "metadata": {},
   "cell_type": "code",
   "outputs": [],
   "execution_count": null,
   "source": "",
   "id": "28d80d36ade9a92c"
  },
  {
   "metadata": {},
   "cell_type": "code",
   "outputs": [],
   "execution_count": null,
   "source": "",
   "id": "18d12c55611f5860"
  }
 ],
 "metadata": {
  "kernelspec": {
   "display_name": "Python 3",
   "language": "python",
   "name": "python3"
  },
  "language_info": {
   "codemirror_mode": {
    "name": "ipython",
    "version": 2
   },
   "file_extension": ".py",
   "mimetype": "text/x-python",
   "name": "python",
   "nbconvert_exporter": "python",
   "pygments_lexer": "ipython2",
   "version": "2.7.6"
  }
 },
 "nbformat": 4,
 "nbformat_minor": 5
}
