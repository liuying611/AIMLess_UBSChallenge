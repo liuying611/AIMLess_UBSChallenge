{
 "cells": [
  {
   "cell_type": "code",
   "id": "initial_id",
   "metadata": {
    "collapsed": true,
    "ExecuteTime": {
     "end_time": "2024-04-27T16:42:32.709181Z",
     "start_time": "2024-04-27T16:42:32.706634Z"
    }
   },
   "source": [
    "import pandas as pd\n",
    "import numpy as np\n",
    "import matplotlib.pyplot as plt"
   ],
   "outputs": [],
   "execution_count": 3
  },
  {
   "metadata": {
    "ExecuteTime": {
     "end_time": "2024-04-27T16:42:33.327512Z",
     "start_time": "2024-04-27T16:42:33.324790Z"
    }
   },
   "cell_type": "code",
   "source": "file_path = '../data/skylab_instagram_datathon_dataset.csv'",
   "id": "c53abf5f8cdf1cb5",
   "outputs": [],
   "execution_count": 4
  },
  {
   "metadata": {
    "ExecuteTime": {
     "end_time": "2024-04-27T16:42:35.649774Z",
     "start_time": "2024-04-27T16:42:33.891380Z"
    }
   },
   "cell_type": "code",
   "source": [
    "df = pd.read_csv(file_path, header=0, sep=\";\")\n",
    "df.drop(columns=['period', 'calculation_type'], inplace=True)\n",
    "df_allbrands = df[df['business_entity_doing_business_as_name'] == 'All Brands'].copy()\n",
    "df_allbrands.drop(columns=['business_entity_doing_business_as_name','legal_entity_name','domicile_country_name','ultimate_parent_legal_entity_name','primary_exchange_name'], inplace=True)\n",
    "df.drop(df[df['business_entity_doing_business_as_name'] == 'All Brands'].index, inplace=True)\n",
    "\n",
    "brands = df['business_entity_doing_business_as_name'].unique()\n",
    "compset_groups = df['compset_group'].unique()\n",
    "compsets = df['compset'].unique()\n",
    "\n",
    "groups_bycompset = {}\n",
    "for compset in compsets:\n",
    "    df_compset = df[df['compset'] == compset]\n",
    "    groups_bycompset[compset] = df_compset['compset_group'].unique()\n",
    "\n",
    "df_brands = df[['business_entity_doing_business_as_name', 'compset_group', 'compset', 'legal_entity_name', 'domicile_country_name', 'ultimate_parent_legal_entity_name', 'primary_exchange_name']].copy()\n",
    "df_brands = df_brands.groupby('business_entity_doing_business_as_name').agg({\n",
    "    'compset_group': 'first',\n",
    "    'compset': lambda x: sorted(list(set(x))),\n",
    "    'legal_entity_name': 'first',\n",
    "    'domicile_country_name': 'first',\n",
    "    'ultimate_parent_legal_entity_name': 'first',\n",
    "    'primary_exchange_name': 'first'\n",
    "}).reset_index()\n",
    "df.drop(columns=['compset_group', 'compset', 'legal_entity_name', 'domicile_country_name', 'ultimate_parent_legal_entity_name', 'primary_exchange_name'], inplace=True)\n",
    "df.fillna(-1, inplace=True)\n",
    "df.drop_duplicates(inplace=True)"
   ],
   "id": "c641c4fb84a483dc",
   "outputs": [],
   "execution_count": 5
  },
  {
   "metadata": {
    "ExecuteTime": {
     "end_time": "2024-04-27T16:43:55.869820Z",
     "start_time": "2024-04-27T16:43:55.850621Z"
    }
   },
   "cell_type": "code",
   "source": "df[(df['business_entity_doing_business_as_name'] == '24S')].sort_values(by='period_end_date')",
   "id": "72299ffd24ee8b83",
   "outputs": [
    {
     "data": {
      "text/plain": [
       "     period_end_date business_entity_doing_business_as_name   followers  \\\n",
       "44        2015-01-03                                Versace   3013544.0   \n",
       "99        2015-01-10                                Versace   3052258.0   \n",
       "650       2015-01-17                                Versace   3091251.0   \n",
       "559       2015-01-24                                Versace   3124897.0   \n",
       "466       2015-01-31                                Versace   3179576.0   \n",
       "...              ...                                    ...         ...   \n",
       "204       2023-08-19                                Versace  31222929.0   \n",
       "308       2023-08-26                                Versace  31243955.0   \n",
       "792       2023-09-02                                Versace  31274956.0   \n",
       "72        2023-09-09                                Versace  31285692.0   \n",
       "1067      2023-09-16                                Versace  31312744.0   \n",
       "\n",
       "      pictures  videos  comments      likes  \n",
       "44        33.0     3.0    7111.0   742976.0  \n",
       "99        28.0     1.0    7193.0   685187.0  \n",
       "650       56.0     0.0   12023.0  1288836.0  \n",
       "559       67.0     0.0   12552.0  1460174.0  \n",
       "466       91.0     0.0   16593.0  2054621.0  \n",
       "...        ...     ...       ...        ...  \n",
       "204       24.0     4.0    1806.0   335913.0  \n",
       "308       28.0     5.0    2599.0   510408.0  \n",
       "792       26.0     5.0    2693.0   599882.0  \n",
       "72        37.0     4.0    3685.0   852583.0  \n",
       "1067      47.0     7.0    4490.0  1033795.0  \n",
       "\n",
       "[455 rows x 7 columns]"
      ],
      "text/html": [
       "<div>\n",
       "<style scoped>\n",
       "    .dataframe tbody tr th:only-of-type {\n",
       "        vertical-align: middle;\n",
       "    }\n",
       "\n",
       "    .dataframe tbody tr th {\n",
       "        vertical-align: top;\n",
       "    }\n",
       "\n",
       "    .dataframe thead th {\n",
       "        text-align: right;\n",
       "    }\n",
       "</style>\n",
       "<table border=\"1\" class=\"dataframe\">\n",
       "  <thead>\n",
       "    <tr style=\"text-align: right;\">\n",
       "      <th></th>\n",
       "      <th>period_end_date</th>\n",
       "      <th>business_entity_doing_business_as_name</th>\n",
       "      <th>followers</th>\n",
       "      <th>pictures</th>\n",
       "      <th>videos</th>\n",
       "      <th>comments</th>\n",
       "      <th>likes</th>\n",
       "    </tr>\n",
       "  </thead>\n",
       "  <tbody>\n",
       "    <tr>\n",
       "      <th>44</th>\n",
       "      <td>2015-01-03</td>\n",
       "      <td>Versace</td>\n",
       "      <td>3013544.0</td>\n",
       "      <td>33.0</td>\n",
       "      <td>3.0</td>\n",
       "      <td>7111.0</td>\n",
       "      <td>742976.0</td>\n",
       "    </tr>\n",
       "    <tr>\n",
       "      <th>99</th>\n",
       "      <td>2015-01-10</td>\n",
       "      <td>Versace</td>\n",
       "      <td>3052258.0</td>\n",
       "      <td>28.0</td>\n",
       "      <td>1.0</td>\n",
       "      <td>7193.0</td>\n",
       "      <td>685187.0</td>\n",
       "    </tr>\n",
       "    <tr>\n",
       "      <th>650</th>\n",
       "      <td>2015-01-17</td>\n",
       "      <td>Versace</td>\n",
       "      <td>3091251.0</td>\n",
       "      <td>56.0</td>\n",
       "      <td>0.0</td>\n",
       "      <td>12023.0</td>\n",
       "      <td>1288836.0</td>\n",
       "    </tr>\n",
       "    <tr>\n",
       "      <th>559</th>\n",
       "      <td>2015-01-24</td>\n",
       "      <td>Versace</td>\n",
       "      <td>3124897.0</td>\n",
       "      <td>67.0</td>\n",
       "      <td>0.0</td>\n",
       "      <td>12552.0</td>\n",
       "      <td>1460174.0</td>\n",
       "    </tr>\n",
       "    <tr>\n",
       "      <th>466</th>\n",
       "      <td>2015-01-31</td>\n",
       "      <td>Versace</td>\n",
       "      <td>3179576.0</td>\n",
       "      <td>91.0</td>\n",
       "      <td>0.0</td>\n",
       "      <td>16593.0</td>\n",
       "      <td>2054621.0</td>\n",
       "    </tr>\n",
       "    <tr>\n",
       "      <th>...</th>\n",
       "      <td>...</td>\n",
       "      <td>...</td>\n",
       "      <td>...</td>\n",
       "      <td>...</td>\n",
       "      <td>...</td>\n",
       "      <td>...</td>\n",
       "      <td>...</td>\n",
       "    </tr>\n",
       "    <tr>\n",
       "      <th>204</th>\n",
       "      <td>2023-08-19</td>\n",
       "      <td>Versace</td>\n",
       "      <td>31222929.0</td>\n",
       "      <td>24.0</td>\n",
       "      <td>4.0</td>\n",
       "      <td>1806.0</td>\n",
       "      <td>335913.0</td>\n",
       "    </tr>\n",
       "    <tr>\n",
       "      <th>308</th>\n",
       "      <td>2023-08-26</td>\n",
       "      <td>Versace</td>\n",
       "      <td>31243955.0</td>\n",
       "      <td>28.0</td>\n",
       "      <td>5.0</td>\n",
       "      <td>2599.0</td>\n",
       "      <td>510408.0</td>\n",
       "    </tr>\n",
       "    <tr>\n",
       "      <th>792</th>\n",
       "      <td>2023-09-02</td>\n",
       "      <td>Versace</td>\n",
       "      <td>31274956.0</td>\n",
       "      <td>26.0</td>\n",
       "      <td>5.0</td>\n",
       "      <td>2693.0</td>\n",
       "      <td>599882.0</td>\n",
       "    </tr>\n",
       "    <tr>\n",
       "      <th>72</th>\n",
       "      <td>2023-09-09</td>\n",
       "      <td>Versace</td>\n",
       "      <td>31285692.0</td>\n",
       "      <td>37.0</td>\n",
       "      <td>4.0</td>\n",
       "      <td>3685.0</td>\n",
       "      <td>852583.0</td>\n",
       "    </tr>\n",
       "    <tr>\n",
       "      <th>1067</th>\n",
       "      <td>2023-09-16</td>\n",
       "      <td>Versace</td>\n",
       "      <td>31312744.0</td>\n",
       "      <td>47.0</td>\n",
       "      <td>7.0</td>\n",
       "      <td>4490.0</td>\n",
       "      <td>1033795.0</td>\n",
       "    </tr>\n",
       "  </tbody>\n",
       "</table>\n",
       "<p>455 rows × 7 columns</p>\n",
       "</div>"
      ]
     },
     "execution_count": 8,
     "metadata": {},
     "output_type": "execute_result"
    }
   ],
   "execution_count": 8
  },
  {
   "metadata": {},
   "cell_type": "code",
   "outputs": [],
   "execution_count": null,
   "source": "",
   "id": "9a8c6fb1cb9c7ad8"
  },
  {
   "metadata": {
    "ExecuteTime": {
     "end_time": "2024-04-27T13:09:15.958732Z",
     "start_time": "2024-04-27T13:09:04.560771Z"
    }
   },
   "cell_type": "code",
   "source": [
    "# Check columns uniquely defined by brand:\n",
    "for brand in brands:\n",
    "    df_brand=(df[df['business_entity_doing_business_as_name'] == brand].sort_values(by='period_end_date')).copy()\n",
    "    \n",
    "    if df_brand['primary_exchange_name'].nunique()>1:\n",
    "        print(brand)\n",
    "\n",
    "unique=['compset_group', 'legal_entity_name', 'domicile_country_name', 'ultimate_parent_legal_entity_name', 'primary_exchange_name']"
   ],
   "id": "f3897d3f9abdff26",
   "outputs": [],
   "execution_count": 213
  },
  {
   "metadata": {
    "ExecuteTime": {
     "end_time": "2024-04-27T13:26:04.355137Z",
     "start_time": "2024-04-27T13:25:53.007206Z"
    }
   },
   "cell_type": "code",
   "source": [
    "for brand in brands:\n",
    "    df_brand=(df[df['business_entity_doing_business_as_name'] == brand].sort_values(by='period_end_date')).copy().reset_index()\n",
    "    first_date = df_brand.loc[0, 'period_end_date']\n",
    "    filtered_compset = df_brand[df_brand['period_end_date'] == first_date]['compset'].tolist()\n",
    "    all_compset = df_brand['compset'].unique().tolist()\n",
    "    if sorted(filtered_compset)!=sorted(all_compset):\n",
    "        print(brand)\n",
    "\n",
    "# Compset list of first time entry does not change later..."
   ],
   "id": "4dbef0f5faef6b77",
   "outputs": [],
   "execution_count": 233
  },
  {
   "metadata": {},
   "cell_type": "code",
   "outputs": [],
   "execution_count": null,
   "source": "",
   "id": "28d80d36ade9a92c"
  },
  {
   "metadata": {},
   "cell_type": "code",
   "outputs": [],
   "execution_count": null,
   "source": "",
   "id": "18d12c55611f5860"
  }
 ],
 "metadata": {
  "kernelspec": {
   "display_name": "Python 3",
   "language": "python",
   "name": "python3"
  },
  "language_info": {
   "codemirror_mode": {
    "name": "ipython",
    "version": 2
   },
   "file_extension": ".py",
   "mimetype": "text/x-python",
   "name": "python",
   "nbconvert_exporter": "python",
   "pygments_lexer": "ipython2",
   "version": "2.7.6"
  }
 },
 "nbformat": 4,
 "nbformat_minor": 5
}
